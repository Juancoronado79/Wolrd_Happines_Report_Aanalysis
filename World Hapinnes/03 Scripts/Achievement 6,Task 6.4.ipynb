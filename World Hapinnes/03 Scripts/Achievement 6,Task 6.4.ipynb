{
 "cells": [
  {
   "cell_type": "markdown",
   "id": "802e3446-3d6e-40d7-b684-4717df405b03",
   "metadata": {},
   "source": [
    "# 6.4: Supervised Machine Learning: Regression\n",
    "This script contains the following:\n",
    "1. Importing libraries and data\n",
    "2. Data cleaning\n",
    "3. Data prep for regression analysis\n",
    "4. Regression analysis"
   ]
  },
  {
   "cell_type": "code",
   "execution_count": 1,
   "id": "61e521a5-cb35-4366-ad59-6e0e1a4e1f8e",
   "metadata": {},
   "outputs": [],
   "source": [
    "import pandas as pd\n",
    "import numpy as np\n",
    "import seaborn as sns\n",
    "import matplotlib\n",
    "import matplotlib.pyplot as plt\n",
    "import os\n",
    "import sklearn\n",
    "from sklearn.model_selection import train_test_split \n",
    "from sklearn.linear_model import LinearRegression\n",
    "from sklearn.metrics import mean_squared_error, r2_score"
   ]
  },
  {
   "cell_type": "code",
   "execution_count": 2,
   "id": "94a82f1e-7392-4b51-af80-7a5033d5d06e",
   "metadata": {},
   "outputs": [],
   "source": [
    "# This option ensures that the graphs you create are displayed within the notebook without the need to \"call\" them specifically.\n",
    "%matplotlib inline"
   ]
  },
  {
   "cell_type": "code",
   "execution_count": 3,
   "id": "81b57772-4bdb-4cd1-9d53-af6b6fc74535",
   "metadata": {},
   "outputs": [],
   "source": [
    "# Define the CSV file path\n",
    "path = r'C:\\Users\\juank\\Documents\\World Hapinnes'"
   ]
  },
  {
   "cell_type": "code",
   "execution_count": 4,
   "id": "7565e942-1ac3-4c24-9cb7-f72cb3b11543",
   "metadata": {},
   "outputs": [],
   "source": [
    "# Import file CSV\n",
    "df = pd.read_csv(os.path.join(path, '02 Data', 'Prepared Data', '2019_cleaned.csv'), index_col=False)"
   ]
  },
  {
   "cell_type": "markdown",
   "id": "e7af9e7c-203f-43e8-8656-69679f0ef128",
   "metadata": {},
   "source": [
    "# 2. Data cleaning"
   ]
  },
  {
   "cell_type": "code",
   "execution_count": 5,
   "id": "94586d57-e0f3-481a-8bbe-1df8f754ee9d",
   "metadata": {},
   "outputs": [
    {
     "data": {
      "text/plain": [
       "Index(['Unnamed: 0', 'Overall rank', 'Country', 'Region ', 'Score',\n",
       "       'GDP per capita', 'Social support', 'Healthy life expectancy',\n",
       "       'Freedom ', 'Generosity', 'Perceptions of corruption'],\n",
       "      dtype='object')"
      ]
     },
     "execution_count": 5,
     "metadata": {},
     "output_type": "execute_result"
    }
   ],
   "source": [
    "df.columns"
   ]
  },
  {
   "cell_type": "code",
   "execution_count": 6,
   "id": "f799bc8e-0f57-4054-bc83-f2298b5d7f1f",
   "metadata": {},
   "outputs": [
    {
     "data": {
      "text/html": [
       "<div>\n",
       "<style scoped>\n",
       "    .dataframe tbody tr th:only-of-type {\n",
       "        vertical-align: middle;\n",
       "    }\n",
       "\n",
       "    .dataframe tbody tr th {\n",
       "        vertical-align: top;\n",
       "    }\n",
       "\n",
       "    .dataframe thead th {\n",
       "        text-align: right;\n",
       "    }\n",
       "</style>\n",
       "<table border=\"1\" class=\"dataframe\">\n",
       "  <thead>\n",
       "    <tr style=\"text-align: right;\">\n",
       "      <th></th>\n",
       "      <th>Unnamed: 0</th>\n",
       "      <th>Overall rank</th>\n",
       "      <th>Country</th>\n",
       "      <th>Region</th>\n",
       "      <th>Score</th>\n",
       "      <th>GDP per capita</th>\n",
       "      <th>Social support</th>\n",
       "      <th>Healthy life expectancy</th>\n",
       "      <th>Freedom</th>\n",
       "      <th>Generosity</th>\n",
       "      <th>Perceptions of corruption</th>\n",
       "    </tr>\n",
       "  </thead>\n",
       "  <tbody>\n",
       "    <tr>\n",
       "      <th>0</th>\n",
       "      <td>0</td>\n",
       "      <td>1</td>\n",
       "      <td>Finland</td>\n",
       "      <td>Western Europe</td>\n",
       "      <td>7.769</td>\n",
       "      <td>1.340</td>\n",
       "      <td>1.587</td>\n",
       "      <td>0.986</td>\n",
       "      <td>0.596</td>\n",
       "      <td>0.153</td>\n",
       "      <td>0.393</td>\n",
       "    </tr>\n",
       "    <tr>\n",
       "      <th>1</th>\n",
       "      <td>1</td>\n",
       "      <td>2</td>\n",
       "      <td>Denmark</td>\n",
       "      <td>Western Europe</td>\n",
       "      <td>7.600</td>\n",
       "      <td>1.383</td>\n",
       "      <td>1.573</td>\n",
       "      <td>0.996</td>\n",
       "      <td>0.592</td>\n",
       "      <td>0.252</td>\n",
       "      <td>0.410</td>\n",
       "    </tr>\n",
       "    <tr>\n",
       "      <th>2</th>\n",
       "      <td>2</td>\n",
       "      <td>3</td>\n",
       "      <td>Norway</td>\n",
       "      <td>Western Europe</td>\n",
       "      <td>7.554</td>\n",
       "      <td>1.488</td>\n",
       "      <td>1.582</td>\n",
       "      <td>1.028</td>\n",
       "      <td>0.603</td>\n",
       "      <td>0.271</td>\n",
       "      <td>0.341</td>\n",
       "    </tr>\n",
       "    <tr>\n",
       "      <th>3</th>\n",
       "      <td>3</td>\n",
       "      <td>4</td>\n",
       "      <td>Iceland</td>\n",
       "      <td>Western Europe</td>\n",
       "      <td>7.494</td>\n",
       "      <td>1.380</td>\n",
       "      <td>1.624</td>\n",
       "      <td>1.026</td>\n",
       "      <td>0.591</td>\n",
       "      <td>0.354</td>\n",
       "      <td>0.118</td>\n",
       "    </tr>\n",
       "    <tr>\n",
       "      <th>4</th>\n",
       "      <td>4</td>\n",
       "      <td>5</td>\n",
       "      <td>Netherlands</td>\n",
       "      <td>Western Europe</td>\n",
       "      <td>7.488</td>\n",
       "      <td>1.396</td>\n",
       "      <td>1.522</td>\n",
       "      <td>0.999</td>\n",
       "      <td>0.557</td>\n",
       "      <td>0.322</td>\n",
       "      <td>0.298</td>\n",
       "    </tr>\n",
       "    <tr>\n",
       "      <th>5</th>\n",
       "      <td>5</td>\n",
       "      <td>6</td>\n",
       "      <td>Switzerland</td>\n",
       "      <td>Western Europe</td>\n",
       "      <td>7.480</td>\n",
       "      <td>1.452</td>\n",
       "      <td>1.526</td>\n",
       "      <td>1.052</td>\n",
       "      <td>0.572</td>\n",
       "      <td>0.263</td>\n",
       "      <td>0.343</td>\n",
       "    </tr>\n",
       "    <tr>\n",
       "      <th>6</th>\n",
       "      <td>6</td>\n",
       "      <td>7</td>\n",
       "      <td>Sweden</td>\n",
       "      <td>Western Europe</td>\n",
       "      <td>7.343</td>\n",
       "      <td>1.387</td>\n",
       "      <td>1.487</td>\n",
       "      <td>1.009</td>\n",
       "      <td>0.574</td>\n",
       "      <td>0.267</td>\n",
       "      <td>0.373</td>\n",
       "    </tr>\n",
       "    <tr>\n",
       "      <th>7</th>\n",
       "      <td>7</td>\n",
       "      <td>8</td>\n",
       "      <td>New Zealand</td>\n",
       "      <td>Australia and New Zealand</td>\n",
       "      <td>7.307</td>\n",
       "      <td>1.303</td>\n",
       "      <td>1.557</td>\n",
       "      <td>1.026</td>\n",
       "      <td>0.585</td>\n",
       "      <td>0.330</td>\n",
       "      <td>0.380</td>\n",
       "    </tr>\n",
       "    <tr>\n",
       "      <th>8</th>\n",
       "      <td>8</td>\n",
       "      <td>9</td>\n",
       "      <td>Canada</td>\n",
       "      <td>North America</td>\n",
       "      <td>7.278</td>\n",
       "      <td>1.365</td>\n",
       "      <td>1.505</td>\n",
       "      <td>1.039</td>\n",
       "      <td>0.584</td>\n",
       "      <td>0.285</td>\n",
       "      <td>0.308</td>\n",
       "    </tr>\n",
       "    <tr>\n",
       "      <th>9</th>\n",
       "      <td>9</td>\n",
       "      <td>10</td>\n",
       "      <td>Austria</td>\n",
       "      <td>Western Europe</td>\n",
       "      <td>7.246</td>\n",
       "      <td>1.376</td>\n",
       "      <td>1.475</td>\n",
       "      <td>1.016</td>\n",
       "      <td>0.532</td>\n",
       "      <td>0.244</td>\n",
       "      <td>0.226</td>\n",
       "    </tr>\n",
       "  </tbody>\n",
       "</table>\n",
       "</div>"
      ],
      "text/plain": [
       "   Unnamed: 0  Overall rank      Country                    Region   Score  \\\n",
       "0           0             1      Finland             Western Europe  7.769   \n",
       "1           1             2      Denmark             Western Europe  7.600   \n",
       "2           2             3       Norway             Western Europe  7.554   \n",
       "3           3             4      Iceland             Western Europe  7.494   \n",
       "4           4             5  Netherlands             Western Europe  7.488   \n",
       "5           5             6  Switzerland             Western Europe  7.480   \n",
       "6           6             7       Sweden             Western Europe  7.343   \n",
       "7           7             8  New Zealand  Australia and New Zealand  7.307   \n",
       "8           8             9       Canada              North America  7.278   \n",
       "9           9            10      Austria             Western Europe  7.246   \n",
       "\n",
       "   GDP per capita  Social support  Healthy life expectancy  Freedom   \\\n",
       "0           1.340           1.587                    0.986     0.596   \n",
       "1           1.383           1.573                    0.996     0.592   \n",
       "2           1.488           1.582                    1.028     0.603   \n",
       "3           1.380           1.624                    1.026     0.591   \n",
       "4           1.396           1.522                    0.999     0.557   \n",
       "5           1.452           1.526                    1.052     0.572   \n",
       "6           1.387           1.487                    1.009     0.574   \n",
       "7           1.303           1.557                    1.026     0.585   \n",
       "8           1.365           1.505                    1.039     0.584   \n",
       "9           1.376           1.475                    1.016     0.532   \n",
       "\n",
       "   Generosity  Perceptions of corruption  \n",
       "0       0.153                      0.393  \n",
       "1       0.252                      0.410  \n",
       "2       0.271                      0.341  \n",
       "3       0.354                      0.118  \n",
       "4       0.322                      0.298  \n",
       "5       0.263                      0.343  \n",
       "6       0.267                      0.373  \n",
       "7       0.330                      0.380  \n",
       "8       0.285                      0.308  \n",
       "9       0.244                      0.226  "
      ]
     },
     "execution_count": 6,
     "metadata": {},
     "output_type": "execute_result"
    }
   ],
   "source": [
    "df.head(10)"
   ]
  },
  {
   "cell_type": "code",
   "execution_count": 7,
   "id": "953be276-375b-4210-a674-3f90576e1f2b",
   "metadata": {},
   "outputs": [
    {
     "data": {
      "text/plain": [
       "(156, 11)"
      ]
     },
     "execution_count": 7,
     "metadata": {},
     "output_type": "execute_result"
    }
   ],
   "source": [
    "df.shape"
   ]
  },
  {
   "cell_type": "markdown",
   "id": "bbc562f7-1482-4867-8767-e6917c0dc301",
   "metadata": {},
   "source": [
    "# Check Missing values"
   ]
  },
  {
   "cell_type": "code",
   "execution_count": 8,
   "id": "c8392fd4-ad19-4db0-a095-d6ceef54b742",
   "metadata": {},
   "outputs": [
    {
     "data": {
      "text/plain": [
       "Unnamed: 0                   0\n",
       "Overall rank                 0\n",
       "Country                      0\n",
       "Region                       0\n",
       "Score                        0\n",
       "GDP per capita               0\n",
       "Social support               0\n",
       "Healthy life expectancy      0\n",
       "Freedom                      0\n",
       "Generosity                   0\n",
       "Perceptions of corruption    0\n",
       "dtype: int64"
      ]
     },
     "execution_count": 8,
     "metadata": {},
     "output_type": "execute_result"
    }
   ],
   "source": [
    "# Check for missing values\n",
    "df.isnull().sum()\n",
    "# No missing values to handle"
   ]
  },
  {
   "cell_type": "markdown",
   "id": "6cecb449-2526-464c-acbb-514001e9e4e0",
   "metadata": {},
   "source": [
    "# Duplicates check"
   ]
  },
  {
   "cell_type": "code",
   "execution_count": 9,
   "id": "ad06eafa-7aac-4b51-b762-400b5836d7e5",
   "metadata": {},
   "outputs": [],
   "source": [
    "dups = df.duplicated()"
   ]
  },
  {
   "cell_type": "code",
   "execution_count": 10,
   "id": "8e633033-0ca0-47f4-a6cb-c353c6007df3",
   "metadata": {},
   "outputs": [
    {
     "data": {
      "text/plain": [
       "(156,)"
      ]
     },
     "execution_count": 10,
     "metadata": {},
     "output_type": "execute_result"
    }
   ],
   "source": [
    "dups.shape # No dups"
   ]
  },
  {
   "cell_type": "markdown",
   "id": "34774b22-5fdc-4c02-8351-1f9c98dcb692",
   "metadata": {},
   "source": [
    "# Extreme values checks"
   ]
  },
  {
   "cell_type": "code",
   "execution_count": 11,
   "id": "75ebaa44-fdd7-4e2a-9725-5bf9faa3bb4d",
   "metadata": {},
   "outputs": [
    {
     "name": "stderr",
     "output_type": "stream",
     "text": [
      "C:\\Users\\juank\\AppData\\Local\\Temp\\ipykernel_10228\\3121644600.py:1: UserWarning: \n",
      "\n",
      "`distplot` is a deprecated function and will be removed in seaborn v0.14.0.\n",
      "\n",
      "Please adapt your code to use either `displot` (a figure-level function with\n",
      "similar flexibility) or `histplot` (an axes-level function for histograms).\n",
      "\n",
      "For a guide to updating your code to use the new functions, please see\n",
      "https://gist.github.com/mwaskom/de44147ed2974457ad6372750bbe5751\n",
      "\n",
      "  sns.distplot(df['Score'], bins=25) # Shows extreme values\n",
      "C:\\Users\\juank\\anaconda3\\Lib\\site-packages\\seaborn\\_oldcore.py:1119: FutureWarning: use_inf_as_na option is deprecated and will be removed in a future version. Convert inf values to NaN before operating instead.\n",
      "  with pd.option_context('mode.use_inf_as_na', True):\n"
     ]
    },
    {
     "data": {
      "text/plain": [
       "<Axes: xlabel='Score', ylabel='Density'>"
      ]
     },
     "execution_count": 11,
     "metadata": {},
     "output_type": "execute_result"
    },
    {
     "data": {
      "image/png": "[encoded data removed]",
      "text/plain": [
       "<Figure size 640x480 with 1 Axes>"
      ]
     },
     "metadata": {},
     "output_type": "display_data"
    }
   ],
   "source": [
    "sns.distplot(df['Score'], bins=25) # Shows extreme values\n",
    "\n",
    "# Some of the outliers in the high values may need to be removed, but let's try without doing so first."
   ]
  },
  {
   "cell_type": "code",
   "execution_count": 12,
   "id": "2dd69a17-94dc-4b0a-9955-ce05e751157c",
   "metadata": {},
   "outputs": [
    {
     "data": {
      "text/plain": [
       "5.407096153846155"
      ]
     },
     "execution_count": 12,
     "metadata": {},
     "output_type": "execute_result"
    }
   ],
   "source": [
    "df['Score'].mean() # Check the mean"
   ]
  },
  {
   "cell_type": "code",
   "execution_count": 13,
   "id": "cd9f76f2-bb23-4dcc-bde4-538cb2fbf338",
   "metadata": {},
   "outputs": [
    {
     "data": {
      "text/plain": [
       "5.3795"
      ]
     },
     "execution_count": 13,
     "metadata": {},
     "output_type": "execute_result"
    }
   ],
   "source": [
    "df['Score'].median() # Check the median"
   ]
  },
  {
   "cell_type": "code",
   "execution_count": 14,
   "id": "d03ce9af-6d20-4020-8d48-5e098e9b7951",
   "metadata": {},
   "outputs": [
    {
     "data": {
      "text/plain": [
       "7.769"
      ]
     },
     "execution_count": 14,
     "metadata": {},
     "output_type": "execute_result"
    }
   ],
   "source": [
    "df['Score'].max() # Check the max"
   ]
  },
  {
   "cell_type": "markdown",
   "id": "9be5dd26-c16a-4862-8502-273aa185851b",
   "metadata": {},
   "source": [
    "# La calificación de 7.769 no es un outlier"
   ]
  },
  {
   "cell_type": "markdown",
   "id": "79a5d0c4-17d8-4e63-afb3-0029ccc3ff2f",
   "metadata": {},
   "source": [
    "# 3. Data prep for regression analysis"
   ]
  },
  {
   "cell_type": "code",
   "execution_count": 15,
   "id": "3357619b-f4c2-475c-9022-c3e939d32699",
   "metadata": {},
   "outputs": [
    {
     "data": {
      "image/png": "[encoded data removed]",
      "text/plain": [
       "<Figure size 640x480 with 1 Axes>"
      ]
     },
     "metadata": {},
     "output_type": "display_data"
    }
   ],
   "source": [
    "# Create a scatterplot using matplotlib for another look at how the chosen variables plot against each other.\n",
    "\n",
    "df.plot(x = 'GDP per capita', y='Score',style='o') # The style option creates a scatterplot; without it, we only have lines.\n",
    "plt.title('GDP per capita vs Score')  \n",
    "plt.xlabel('GDP per capita')  \n",
    "plt.ylabel('Score')  \n",
    "plt.show()"
   ]
  },
  {
   "cell_type": "markdown",
   "id": "2f5bb2d1-2adc-40d5-a241-c4a3ed282728",
   "metadata": {},
   "source": [
    "# Hypothesis: There is a significant positive relationship between a country's GDP per capita and its happiness score. That is, as GDP per capita increases, the happiness score also increases."
   ]
  },
  {
   "cell_type": "code",
   "execution_count": 16,
   "id": "2ddc8415-154c-4d91-b0e9-1a694ad4b821",
   "metadata": {},
   "outputs": [],
   "source": [
    "# Reshape the variables into NumPy arrays and put them into separate objects.\n",
    "X = df['GDP per capita'].values.reshape(-1,1)"
   ]
  },
  {
   "cell_type": "code",
   "execution_count": 17,
   "id": "dec10c80-b426-4875-8f28-016e5741d399",
   "metadata": {},
   "outputs": [
    {
     "data": {
      "text/plain": [
       "array([[1.34 ],\n",
       "       [1.383],\n",
       "       [1.488],\n",
       "       [1.38 ],\n",
       "       [1.396],\n",
       "       [1.452],\n",
       "       [1.387],\n",
       "       [1.303],\n",
       "       [1.365],\n",
       "       [1.376],\n",
       "       [1.372],\n",
       "       [1.034],\n",
       "       [1.276],\n",
       "       [1.609],\n",
       "       [1.333],\n",
       "       [1.499],\n",
       "       [1.373],\n",
       "       [1.356],\n",
       "       [1.433],\n",
       "       [1.269],\n",
       "       [1.503],\n",
       "       [1.3  ],\n",
       "       [1.07 ],\n",
       "       [1.324],\n",
       "       [1.368],\n",
       "       [1.159],\n",
       "       [0.8  ],\n",
       "       [1.403],\n",
       "       [1.684],\n",
       "       [1.286],\n",
       "       [1.149],\n",
       "       [1.004],\n",
       "       [1.124],\n",
       "       [1.572],\n",
       "       [0.794],\n",
       "       [1.294],\n",
       "       [1.362],\n",
       "       [1.246],\n",
       "       [1.231],\n",
       "       [1.206],\n",
       "       [0.745],\n",
       "       [1.238],\n",
       "       [0.985],\n",
       "       [1.258],\n",
       "       [0.694],\n",
       "       [0.882],\n",
       "       [1.092],\n",
       "       [1.162],\n",
       "       [1.263],\n",
       "       [0.912],\n",
       "       [1.5  ],\n",
       "       [1.05 ],\n",
       "       [1.187],\n",
       "       [1.301],\n",
       "       [1.237],\n",
       "       [0.831],\n",
       "       [1.12 ],\n",
       "       [1.327],\n",
       "       [0.642],\n",
       "       [1.173],\n",
       "       [0.776],\n",
       "       [1.201],\n",
       "       [0.855],\n",
       "       [1.263],\n",
       "       [0.96 ],\n",
       "       [1.221],\n",
       "       [0.677],\n",
       "       [1.183],\n",
       "       [0.807],\n",
       "       [1.004],\n",
       "       [0.685],\n",
       "       [1.044],\n",
       "       [1.051],\n",
       "       [0.493],\n",
       "       [1.155],\n",
       "       [1.438],\n",
       "       [1.015],\n",
       "       [0.945],\n",
       "       [1.183],\n",
       "       [1.221],\n",
       "       [1.067],\n",
       "       [1.181],\n",
       "       [0.948],\n",
       "       [0.983],\n",
       "       [0.696],\n",
       "       [0.551],\n",
       "       [1.052],\n",
       "       [1.002],\n",
       "       [0.801],\n",
       "       [1.043],\n",
       "       [0.987],\n",
       "       [0.931],\n",
       "       [1.029],\n",
       "       [0.741],\n",
       "       [0.813],\n",
       "       [0.549],\n",
       "       [1.092],\n",
       "       [0.611],\n",
       "       [0.569],\n",
       "       [0.446],\n",
       "       [0.837],\n",
       "       [0.393],\n",
       "       [0.673],\n",
       "       [1.057],\n",
       "       [0.764],\n",
       "       [0.96 ],\n",
       "       [0.947],\n",
       "       [0.96 ],\n",
       "       [0.574],\n",
       "       [0.657],\n",
       "       [0.45 ],\n",
       "       [0.   ],\n",
       "       [0.879],\n",
       "       [0.138],\n",
       "       [0.331],\n",
       "       [0.85 ],\n",
       "       [1.1  ],\n",
       "       [0.38 ],\n",
       "       [0.886],\n",
       "       [0.308],\n",
       "       [0.512],\n",
       "       [0.57 ],\n",
       "       [0.204],\n",
       "       [0.921],\n",
       "       [0.562],\n",
       "       [1.043],\n",
       "       [0.094],\n",
       "       [0.385],\n",
       "       [0.268],\n",
       "       [0.949],\n",
       "       [0.71 ],\n",
       "       [0.35 ],\n",
       "       [0.82 ],\n",
       "       [0.336],\n",
       "       [0.811],\n",
       "       [0.332],\n",
       "       [0.913],\n",
       "       [0.578],\n",
       "       [0.275],\n",
       "       [0.755],\n",
       "       [0.073],\n",
       "       [0.274],\n",
       "       [0.274],\n",
       "       [0.489],\n",
       "       [0.046],\n",
       "       [0.366],\n",
       "       [0.323],\n",
       "       [1.041],\n",
       "       [0.619],\n",
       "       [0.191],\n",
       "       [0.287],\n",
       "       [0.359],\n",
       "       [0.476],\n",
       "       [0.35 ],\n",
       "       [0.026],\n",
       "       [0.306]])"
      ]
     },
     "execution_count": 17,
     "metadata": {},
     "output_type": "execute_result"
    }
   ],
   "source": [
    "X"
   ]
  },
  {
   "cell_type": "code",
   "execution_count": 18,
   "id": "8d0b4be4-91cd-495e-b879-bb0a2eeb0844",
   "metadata": {},
   "outputs": [],
   "source": [
    "y = df['Score'].values.reshape(-1,1)"
   ]
  },
  {
   "cell_type": "code",
   "execution_count": 20,
   "id": "7433a292-159d-42ed-97b5-52d75bd37331",
   "metadata": {},
   "outputs": [
    {
     "data": {
      "text/plain": [
       "array([[7.769],\n",
       "       [7.6  ],\n",
       "       [7.554],\n",
       "       [7.494],\n",
       "       [7.488],\n",
       "       [7.48 ],\n",
       "       [7.343],\n",
       "       [7.307],\n",
       "       [7.278],\n",
       "       [7.246],\n",
       "       [7.228],\n",
       "       [7.167],\n",
       "       [7.139],\n",
       "       [7.09 ],\n",
       "       [7.054],\n",
       "       [7.021],\n",
       "       [6.985],\n",
       "       [6.923],\n",
       "       [6.892],\n",
       "       [6.852],\n",
       "       [6.825],\n",
       "       [6.726],\n",
       "       [6.595],\n",
       "       [6.592],\n",
       "       [6.446],\n",
       "       [6.444],\n",
       "       [6.436],\n",
       "       [6.375],\n",
       "       [6.374],\n",
       "       [6.354],\n",
       "       [6.321],\n",
       "       [6.3  ],\n",
       "       [6.293],\n",
       "       [6.262],\n",
       "       [6.253],\n",
       "       [6.223],\n",
       "       [6.199],\n",
       "       [6.198],\n",
       "       [6.192],\n",
       "       [6.182],\n",
       "       [6.174],\n",
       "       [6.149],\n",
       "       [6.125],\n",
       "       [6.118],\n",
       "       [6.105],\n",
       "       [6.1  ],\n",
       "       [6.086],\n",
       "       [6.07 ],\n",
       "       [6.046],\n",
       "       [6.028],\n",
       "       [6.021],\n",
       "       [6.008],\n",
       "       [5.94 ],\n",
       "       [5.895],\n",
       "       [5.893],\n",
       "       [5.89 ],\n",
       "       [5.888],\n",
       "       [5.886],\n",
       "       [5.86 ],\n",
       "       [5.809],\n",
       "       [5.779],\n",
       "       [5.758],\n",
       "       [5.743],\n",
       "       [5.718],\n",
       "       [5.697],\n",
       "       [5.693],\n",
       "       [5.653],\n",
       "       [5.648],\n",
       "       [5.631],\n",
       "       [5.603],\n",
       "       [5.529],\n",
       "       [5.525],\n",
       "       [5.523],\n",
       "       [5.467],\n",
       "       [5.432],\n",
       "       [5.43 ],\n",
       "       [5.425],\n",
       "       [5.386],\n",
       "       [5.373],\n",
       "       [5.339],\n",
       "       [5.323],\n",
       "       [5.287],\n",
       "       [5.285],\n",
       "       [5.274],\n",
       "       [5.265],\n",
       "       [5.261],\n",
       "       [5.247],\n",
       "       [5.211],\n",
       "       [5.208],\n",
       "       [5.208],\n",
       "       [5.197],\n",
       "       [5.192],\n",
       "       [5.191],\n",
       "       [5.175],\n",
       "       [5.082],\n",
       "       [5.044],\n",
       "       [5.011],\n",
       "       [4.996],\n",
       "       [4.944],\n",
       "       [4.913],\n",
       "       [4.906],\n",
       "       [4.883],\n",
       "       [4.812],\n",
       "       [4.799],\n",
       "       [4.796],\n",
       "       [4.722],\n",
       "       [4.719],\n",
       "       [4.707],\n",
       "       [4.7  ],\n",
       "       [4.696],\n",
       "       [4.681],\n",
       "       [4.668],\n",
       "       [4.639],\n",
       "       [4.628],\n",
       "       [4.587],\n",
       "       [4.559],\n",
       "       [4.548],\n",
       "       [4.534],\n",
       "       [4.519],\n",
       "       [4.516],\n",
       "       [4.509],\n",
       "       [4.49 ],\n",
       "       [4.466],\n",
       "       [4.461],\n",
       "       [4.456],\n",
       "       [4.437],\n",
       "       [4.418],\n",
       "       [4.39 ],\n",
       "       [4.374],\n",
       "       [4.366],\n",
       "       [4.36 ],\n",
       "       [4.35 ],\n",
       "       [4.332],\n",
       "       [4.286],\n",
       "       [4.212],\n",
       "       [4.189],\n",
       "       [4.166],\n",
       "       [4.107],\n",
       "       [4.085],\n",
       "       [4.015],\n",
       "       [3.975],\n",
       "       [3.973],\n",
       "       [3.933],\n",
       "       [3.802],\n",
       "       [3.775],\n",
       "       [3.663],\n",
       "       [3.597],\n",
       "       [3.488],\n",
       "       [3.462],\n",
       "       [3.41 ],\n",
       "       [3.38 ],\n",
       "       [3.334],\n",
       "       [3.231],\n",
       "       [3.203],\n",
       "       [3.083],\n",
       "       [2.853]])"
      ]
     },
     "execution_count": 20,
     "metadata": {},
     "output_type": "execute_result"
    }
   ],
   "source": [
    "y"
   ]
  },
  {
   "cell_type": "code",
   "execution_count": 21,
   "id": "44ae8ca1-e8bc-4e55-83a9-a7ba2748a3ef",
   "metadata": {},
   "outputs": [],
   "source": [
    "# Split data into a training set and a test set.\n",
    "X_train, X_test, y_train, y_test = train_test_split(X, y, test_size=0.3, random_state=0)"
   ]
  },
  {
   "cell_type": "markdown",
   "id": "0126ffe0-3304-474e-9b12-cfdebe4b55f0",
   "metadata": {},
   "source": [
    "# 4. Regression analysis"
   ]
  },
  {
   "cell_type": "code",
   "execution_count": 22,
   "id": "afffe9d2-04a3-4213-81d0-e7b696a483bb",
   "metadata": {},
   "outputs": [],
   "source": [
    "# Create a regression object.\n",
    "regression = LinearRegression()  # This is the regression object, which will be fit onto the training set."
   ]
  },
  {
   "cell_type": "code",
   "execution_count": 23,
   "id": "2dac2bd7-fbc5-423c-b5d3-3b24e187af4a",
   "metadata": {},
   "outputs": [
    {
     "data": {
      "text/html": [
       "<style>#sk-container-id-1 {color: black;background-color: white;}#sk-container-id-1 pre{padding: 0;}#sk-container-id-1 div.sk-toggleable {background-color: white;}#sk-container-id-1 label.sk-toggleable__label {cursor: pointer;display: block;width: 100%;margin-bottom: 0;padding: 0.3em;box-sizing: border-box;text-align: center;}#sk-container-id-1 label.sk-toggleable__label-arrow:before {content: \"▸\";float: left;margin-right: 0.25em;color: #696969;}#sk-container-id-1 label.sk-toggleable__label-arrow:hover:before {color: black;}#sk-container-id-1 div.sk-estimator:hover label.sk-toggleable__label-arrow:before {color: black;}#sk-container-id-1 div.sk-toggleable__content {max-height: 0;max-width: 0;overflow: hidden;text-align: left;background-color: #f0f8ff;}#sk-container-id-1 div.sk-toggleable__content pre {margin: 0.2em;color: black;border-radius: 0.25em;background-color: #f0f8ff;}#sk-container-id-1 input.sk-toggleable__control:checked~div.sk-toggleable__content {max-height: 200px;max-width: 100%;overflow: auto;}#sk-container-id-1 input.sk-toggleable__control:checked~label.sk-toggleable__label-arrow:before {content: \"▾\";}#sk-container-id-1 div.sk-estimator input.sk-toggleable__control:checked~label.sk-toggleable__label {background-color: #d4ebff;}#sk-container-id-1 div.sk-label input.sk-toggleable__control:checked~label.sk-toggleable__label {background-color: #d4ebff;}#sk-container-id-1 input.sk-hidden--visually {border: 0;clip: rect(1px 1px 1px 1px);clip: rect(1px, 1px, 1px, 1px);height: 1px;margin: -1px;overflow: hidden;padding: 0;position: absolute;width: 1px;}#sk-container-id-1 div.sk-estimator {font-family: monospace;background-color: #f0f8ff;border: 1px dotted black;border-radius: 0.25em;box-sizing: border-box;margin-bottom: 0.5em;}#sk-container-id-1 div.sk-estimator:hover {background-color: #d4ebff;}#sk-container-id-1 div.sk-parallel-item::after {content: \"\";width: 100%;border-bottom: 1px solid gray;flex-grow: 1;}#sk-container-id-1 div.sk-label:hover label.sk-toggleable__label {background-color: #d4ebff;}#sk-container-id-1 div.sk-serial::before {content: \"\";position: absolute;border-left: 1px solid gray;box-sizing: border-box;top: 0;bottom: 0;left: 50%;z-index: 0;}#sk-container-id-1 div.sk-serial {display: flex;flex-direction: column;align-items: center;background-color: white;padding-right: 0.2em;padding-left: 0.2em;position: relative;}#sk-container-id-1 div.sk-item {position: relative;z-index: 1;}#sk-container-id-1 div.sk-parallel {display: flex;align-items: stretch;justify-content: center;background-color: white;position: relative;}#sk-container-id-1 div.sk-item::before, #sk-container-id-1 div.sk-parallel-item::before {content: \"\";position: absolute;border-left: 1px solid gray;box-sizing: border-box;top: 0;bottom: 0;left: 50%;z-index: -1;}#sk-container-id-1 div.sk-parallel-item {display: flex;flex-direction: column;z-index: 1;position: relative;background-color: white;}#sk-container-id-1 div.sk-parallel-item:first-child::after {align-self: flex-end;width: 50%;}#sk-container-id-1 div.sk-parallel-item:last-child::after {align-self: flex-start;width: 50%;}#sk-container-id-1 div.sk-parallel-item:only-child::after {width: 0;}#sk-container-id-1 div.sk-dashed-wrapped {border: 1px dashed gray;margin: 0 0.4em 0.5em 0.4em;box-sizing: border-box;padding-bottom: 0.4em;background-color: white;}#sk-container-id-1 div.sk-label label {font-family: monospace;font-weight: bold;display: inline-block;line-height: 1.2em;}#sk-container-id-1 div.sk-label-container {text-align: center;}#sk-container-id-1 div.sk-container {/* jupyter's `normalize.less` sets `[hidden] { display: none; }` but bootstrap.min.css set `[hidden] { display: none !important; }` so we also need the `!important` here to be able to override the default hidden behavior on the sphinx rendered scikit-learn.org. See: https://github.com/scikit-learn/scikit-learn/issues/21755 */display: inline-block !important;position: relative;}#sk-container-id-1 div.sk-text-repr-fallback {display: none;}</style><div id=\"sk-container-id-1\" class=\"sk-top-container\"><div class=\"sk-text-repr-fallback\"><pre>LinearRegression()</pre><b>In a Jupyter environment, please rerun this cell to show the HTML representation or trust the notebook. <br />On GitHub, the HTML representation is unable to render, please try loading this page with nbviewer.org.</b></div><div class=\"sk-container\" hidden><div class=\"sk-item\"><div class=\"sk-estimator sk-toggleable\"><input class=\"sk-toggleable__control sk-hidden--visually\" id=\"sk-estimator-id-1\" type=\"checkbox\" checked><label for=\"sk-estimator-id-1\" class=\"sk-toggleable__label sk-toggleable__label-arrow\">LinearRegression</label><div class=\"sk-toggleable__content\"><pre>LinearRegression()</pre></div></div></div></div></div>"
      ],
      "text/plain": [
       "LinearRegression()"
      ]
     },
     "execution_count": 23,
     "metadata": {},
     "output_type": "execute_result"
    }
   ],
   "source": [
    "# Fit the regression object onto the training set.\n",
    "regression.fit(X_train, y_train)"
   ]
  },
  {
   "cell_type": "code",
   "execution_count": 24,
   "id": "f4252aff-b10e-4b84-ae11-983480ca3d10",
   "metadata": {},
   "outputs": [],
   "source": [
    "# Predict the values of y using X.\n",
    "y_predicted = regression.predict(X_test)"
   ]
  },
  {
   "cell_type": "code",
   "execution_count": 25,
   "id": "7ced0bda-38c7-42f5-abb7-a95a88d0124f",
   "metadata": {},
   "outputs": [
    {
     "data": {
      "image/png": "[encoded data removed]",
      "text/plain": [
       "<Figure size 640x480 with 1 Axes>"
      ]
     },
     "metadata": {},
     "output_type": "display_data"
    }
   ],
   "source": [
    "# Create a plot that shows the regression line from the model on the test set.\n",
    "\n",
    "plot_test = plt\n",
    "plot_test.scatter(X_test, y_test, color='gray', s = 15)\n",
    "plot_test.plot(X_test, y_predicted, color='red', linewidth =3)\n",
    "plot_test.title('GDP per capita vs Score (Test set)')\n",
    "plot_test.xlabel('GDP per capita')\n",
    "plot_test.ylabel('Score')\n",
    "plot_test.show()"
   ]
  },
  {
   "cell_type": "markdown",
   "id": "2d1e4cf5-a02b-40b1-969e-e92dfb49e0ce",
   "metadata": {},
   "source": [
    "# The scatter plot and the regression line indicate a positive relationship between GDP per capita and the happiness score. The regression line seems to fit well with the general trend of the data, suggesting that as GDP per capita increases, the happiness score also tends to increase."
   ]
  },
  {
   "cell_type": "code",
   "execution_count": 26,
   "id": "20fa37c5-9f09-44bc-8e52-ae626ce398b2",
   "metadata": {},
   "outputs": [],
   "source": [
    "# Create objects that contain the model summary statistics.\n",
    "rmse = mean_squared_error(y_test, y_predicted) # This is the mean squared error\n",
    "r2 = r2_score(y_test, y_predicted) # This is the R2 score. "
   ]
  },
  {
   "cell_type": "code",
   "execution_count": 27,
   "id": "830b76a3-cd63-413e-9d02-1b5eed7a5205",
   "metadata": {},
   "outputs": [
    {
     "name": "stdout",
     "output_type": "stream",
     "text": [
      "Slope: [[2.28560657]]\n",
      "Mean squared error:  0.5168179896793245\n",
      "R2 score:  0.49218256470476307\n"
     ]
    }
   ],
   "source": [
    "# Print the model summary statistics. This is where you evaluate the performance of the model.\n",
    "print('Slope:' ,regression.coef_)\n",
    "print('Mean squared error: ', rmse)\n",
    "print('R2 score: ', r2)"
   ]
  },
  {
   "cell_type": "code",
   "execution_count": null,
   "id": "8b445273-fd41-418f-a758-5ef705b4dd28",
   "metadata": {},
   "outputs": [],
   "source": [
    "# The R² score (0.4922) on the test set suggests that the model explains about half of the variance in the happiness scores, which is a decent but not \n",
    "excellent fit. It means that there is substantial room for improvement.\n",
    "\n",
    "#The MSE (0.5168) gives a concrete measure of prediction error on the test data. While this value isn't excessively high, it indicates that the model's\n",
    "predictions are not perfectly accurate and that there are discrepancies.\n",
    "suggests the need to consider other factors that may influence the Score."
   ]
  },
  {
   "cell_type": "code",
   "execution_count": 28,
   "id": "e6a292bd-8754-4e9f-832a-550c69dc014a",
   "metadata": {},
   "outputs": [
    {
     "data": {
      "text/plain": [
       "array([[5.16746232],\n",
       "       [6.16627239],\n",
       "       [6.18684285],\n",
       "       [5.34802524],\n",
       "       [6.46568686],\n",
       "       [6.31712243],\n",
       "       [5.35488206],\n",
       "       [5.53315938],\n",
       "       [4.66005767],\n",
       "       [5.04175396],\n",
       "       [5.59487075],\n",
       "       [5.73886397],\n",
       "       [4.65091524],\n",
       "       [4.04294389],\n",
       "       [5.89885643],\n",
       "       [5.71829351],\n",
       "       [6.9319506 ],\n",
       "       [5.36402449],\n",
       "       [4.92518803],\n",
       "       [3.95151963],\n",
       "       [4.17550907],\n",
       "       [6.45883004],\n",
       "       [5.06461003],\n",
       "       [6.01999357],\n",
       "       [3.33897707],\n",
       "       [4.4269258 ],\n",
       "       [4.59834629],\n",
       "       [5.29317069],\n",
       "       [5.58572833],\n",
       "       [5.19717521],\n",
       "       [6.47711489],\n",
       "       [6.23941181],\n",
       "       [5.21317446],\n",
       "       [4.73548268],\n",
       "       [5.7845761 ],\n",
       "       [5.77771928],\n",
       "       [4.23722045],\n",
       "       [4.87719029],\n",
       "       [5.69086623],\n",
       "       [6.54568309],\n",
       "       [4.84062058],\n",
       "       [3.96751888],\n",
       "       [5.83485944],\n",
       "       [6.61425128],\n",
       "       [6.08399056],\n",
       "       [5.96513902],\n",
       "       [5.72515033]])"
      ]
     },
     "execution_count": 28,
     "metadata": {},
     "output_type": "execute_result"
    }
   ],
   "source": [
    "y_predicted"
   ]
  },
  {
   "cell_type": "code",
   "execution_count": 29,
   "id": "62ca0e8e-cb18-494d-9293-18568790dd84",
   "metadata": {},
   "outputs": [
    {
     "data": {
      "text/html": [
       "<div>\n",
       "<style scoped>\n",
       "    .dataframe tbody tr th:only-of-type {\n",
       "        vertical-align: middle;\n",
       "    }\n",
       "\n",
       "    .dataframe tbody tr th {\n",
       "        vertical-align: top;\n",
       "    }\n",
       "\n",
       "    .dataframe thead th {\n",
       "        text-align: right;\n",
       "    }\n",
       "</style>\n",
       "<table border=\"1\" class=\"dataframe\">\n",
       "  <thead>\n",
       "    <tr style=\"text-align: right;\">\n",
       "      <th></th>\n",
       "      <th>Actual</th>\n",
       "      <th>Predicted</th>\n",
       "    </tr>\n",
       "  </thead>\n",
       "  <tbody>\n",
       "    <tr>\n",
       "      <th>0</th>\n",
       "      <td>6.436</td>\n",
       "      <td>5.167462</td>\n",
       "    </tr>\n",
       "    <tr>\n",
       "      <th>1</th>\n",
       "      <td>5.893</td>\n",
       "      <td>6.166272</td>\n",
       "    </tr>\n",
       "    <tr>\n",
       "      <th>2</th>\n",
       "      <td>6.198</td>\n",
       "      <td>6.186843</td>\n",
       "    </tr>\n",
       "    <tr>\n",
       "      <th>3</th>\n",
       "      <td>4.639</td>\n",
       "      <td>5.348025</td>\n",
       "    </tr>\n",
       "    <tr>\n",
       "      <th>4</th>\n",
       "      <td>6.446</td>\n",
       "      <td>6.465687</td>\n",
       "    </tr>\n",
       "    <tr>\n",
       "      <th>5</th>\n",
       "      <td>7.307</td>\n",
       "      <td>6.317122</td>\n",
       "    </tr>\n",
       "    <tr>\n",
       "      <th>6</th>\n",
       "      <td>6.100</td>\n",
       "      <td>5.354882</td>\n",
       "    </tr>\n",
       "    <tr>\n",
       "      <th>7</th>\n",
       "      <td>4.707</td>\n",
       "      <td>5.533159</td>\n",
       "    </tr>\n",
       "    <tr>\n",
       "      <th>8</th>\n",
       "      <td>4.107</td>\n",
       "      <td>4.660058</td>\n",
       "    </tr>\n",
       "    <tr>\n",
       "      <th>9</th>\n",
       "      <td>6.174</td>\n",
       "      <td>5.041754</td>\n",
       "    </tr>\n",
       "    <tr>\n",
       "      <th>10</th>\n",
       "      <td>5.197</td>\n",
       "      <td>5.594871</td>\n",
       "    </tr>\n",
       "    <tr>\n",
       "      <th>11</th>\n",
       "      <td>6.008</td>\n",
       "      <td>5.738864</td>\n",
       "    </tr>\n",
       "    <tr>\n",
       "      <th>12</th>\n",
       "      <td>4.700</td>\n",
       "      <td>4.650915</td>\n",
       "    </tr>\n",
       "    <tr>\n",
       "      <th>13</th>\n",
       "      <td>4.516</td>\n",
       "      <td>4.042944</td>\n",
       "    </tr>\n",
       "    <tr>\n",
       "      <th>14</th>\n",
       "      <td>5.888</td>\n",
       "      <td>5.898856</td>\n",
       "    </tr>\n",
       "    <tr>\n",
       "      <th>15</th>\n",
       "      <td>3.488</td>\n",
       "      <td>5.718294</td>\n",
       "    </tr>\n",
       "    <tr>\n",
       "      <th>16</th>\n",
       "      <td>6.262</td>\n",
       "      <td>6.931951</td>\n",
       "    </tr>\n",
       "    <tr>\n",
       "      <th>17</th>\n",
       "      <td>4.519</td>\n",
       "      <td>5.364024</td>\n",
       "    </tr>\n",
       "    <tr>\n",
       "      <th>18</th>\n",
       "      <td>6.105</td>\n",
       "      <td>4.925188</td>\n",
       "    </tr>\n",
       "    <tr>\n",
       "      <th>19</th>\n",
       "      <td>4.374</td>\n",
       "      <td>3.951520</td>\n",
       "    </tr>\n",
       "    <tr>\n",
       "      <th>20</th>\n",
       "      <td>3.663</td>\n",
       "      <td>4.175509</td>\n",
       "    </tr>\n",
       "    <tr>\n",
       "      <th>21</th>\n",
       "      <td>7.278</td>\n",
       "      <td>6.458830</td>\n",
       "    </tr>\n",
       "    <tr>\n",
       "      <th>22</th>\n",
       "      <td>4.015</td>\n",
       "      <td>5.064610</td>\n",
       "    </tr>\n",
       "    <tr>\n",
       "      <th>23</th>\n",
       "      <td>5.809</td>\n",
       "      <td>6.019994</td>\n",
       "    </tr>\n",
       "    <tr>\n",
       "      <th>24</th>\n",
       "      <td>4.668</td>\n",
       "      <td>3.338977</td>\n",
       "    </tr>\n",
       "    <tr>\n",
       "      <th>25</th>\n",
       "      <td>3.231</td>\n",
       "      <td>4.426926</td>\n",
       "    </tr>\n",
       "    <tr>\n",
       "      <th>26</th>\n",
       "      <td>5.261</td>\n",
       "      <td>4.598346</td>\n",
       "    </tr>\n",
       "    <tr>\n",
       "      <th>27</th>\n",
       "      <td>5.743</td>\n",
       "      <td>5.293171</td>\n",
       "    </tr>\n",
       "    <tr>\n",
       "      <th>28</th>\n",
       "      <td>5.274</td>\n",
       "      <td>5.585728</td>\n",
       "    </tr>\n",
       "    <tr>\n",
       "      <th>29</th>\n",
       "      <td>5.082</td>\n",
       "      <td>5.197175</td>\n",
       "    </tr>\n",
       "  </tbody>\n",
       "</table>\n",
       "</div>"
      ],
      "text/plain": [
       "    Actual  Predicted\n",
       "0    6.436   5.167462\n",
       "1    5.893   6.166272\n",
       "2    6.198   6.186843\n",
       "3    4.639   5.348025\n",
       "4    6.446   6.465687\n",
       "5    7.307   6.317122\n",
       "6    6.100   5.354882\n",
       "7    4.707   5.533159\n",
       "8    4.107   4.660058\n",
       "9    6.174   5.041754\n",
       "10   5.197   5.594871\n",
       "11   6.008   5.738864\n",
       "12   4.700   4.650915\n",
       "13   4.516   4.042944\n",
       "14   5.888   5.898856\n",
       "15   3.488   5.718294\n",
       "16   6.262   6.931951\n",
       "17   4.519   5.364024\n",
       "18   6.105   4.925188\n",
       "19   4.374   3.951520\n",
       "20   3.663   4.175509\n",
       "21   7.278   6.458830\n",
       "22   4.015   5.064610\n",
       "23   5.809   6.019994\n",
       "24   4.668   3.338977\n",
       "25   3.231   4.426926\n",
       "26   5.261   4.598346\n",
       "27   5.743   5.293171\n",
       "28   5.274   5.585728\n",
       "29   5.082   5.197175"
      ]
     },
     "execution_count": 29,
     "metadata": {},
     "output_type": "execute_result"
    }
   ],
   "source": [
    "# Create a dataframe comparing the actual and predicted values of y.\n",
    "data = pd.DataFrame({'Actual': y_test.flatten(), 'Predicted': y_predicted.flatten()})\n",
    "data.head(30)"
   ]
  },
  {
   "cell_type": "markdown",
   "id": "f5e55ba6-6564-46b8-bd7b-12704942dc0f",
   "metadata": {},
   "source": [
    "# Compare how the regression fits the training set"
   ]
  },
  {
   "cell_type": "code",
   "execution_count": 30,
   "id": "eb4c8aa6-11bd-47c6-bfef-b3d36020cc79",
   "metadata": {},
   "outputs": [],
   "source": [
    "# Predict.\n",
    "y_predicted_train = regression.predict(X_train) # This is predicting X_train!"
   ]
  },
  {
   "cell_type": "code",
   "execution_count": 31,
   "id": "28c7f0be-8dd7-4643-8eb3-cfcfaa2fadc4",
   "metadata": {},
   "outputs": [],
   "source": [
    "rmse = mean_squared_error(y_train, y_predicted_train)\n",
    "r2 = r2_score(y_train, y_predicted_train)"
   ]
  },
  {
   "cell_type": "code",
   "execution_count": 32,
   "id": "41b39050-cf10-4a54-bdaf-7f91067fac10",
   "metadata": {},
   "outputs": [
    {
     "name": "stdout",
     "output_type": "stream",
     "text": [
      "Slope: [[2.28560657]]\n",
      "Mean squared error:  0.42965385241536524\n",
      "R2 score:  0.6752547237794557\n"
     ]
    }
   ],
   "source": [
    "print('Slope:' ,regression.coef_)\n",
    "print('Mean squared error: ', rmse)\n",
    "print('R2 score: ', r2)"
   ]
  },
  {
   "cell_type": "markdown",
   "id": "f41fdd18-3ce7-4c47-81d8-85dbbf75b1cf",
   "metadata": {},
   "source": [
    "# The model shows a better fit to the training data, with an R² score of 0.6753, indicating that approximately 68% of the variability in the Score is explained by GDP per capita in this set. The MSE of 0.4297 is lower than in the test set, suggesting that predictions are more accurate on the training data. This better performance on the training set is typical and may suggest that the model is slightly overfitted to these data."
   ]
  },
  {
   "cell_type": "code",
   "execution_count": 33,
   "id": "790ad728-eaf6-468c-9af8-0aeea99b39e5",
   "metadata": {},
   "outputs": [
    {
     "data": {
      "image/png": "[encoded data removed]",
      "text/plain": [
       "<Figure size 640x480 with 1 Axes>"
      ]
     },
     "metadata": {},
     "output_type": "display_data"
    }
   ],
   "source": [
    "# Visualizing the training set results.\n",
    "plot_test = plt\n",
    "plot_test.scatter(X_train, y_train, color='green', s = 15)\n",
    "plot_test.plot(X_train, y_predicted_train, color='red', linewidth =3)\n",
    "plot_test.title('GDP per capita vs Score (Train set)')\n",
    "plot_test.xlabel('GDP per capita')\n",
    "plot_test.ylabel('Score')\n",
    "plot_test.show()"
   ]
  },
  {
   "cell_type": "markdown",
   "id": "86fbc80b-0a85-434a-ae08-8417f3042ae9",
   "metadata": {},
   "source": [
    "# Overall, the linear regression model shows a positive relationship between GDP per capita and Score, but its predictive ability is moderate. The performance difference between the training and test sets suggests the model may be slightly overfitted to the training data.It's important to remember at this point that the World Happiness Report is based on data from 156 countries, which is a relatively small number for a regression model. \n",
    "\n",
    "# The model only considers GDP per capita, but other factors can also influence the Score. Omitting important variables can lead to a biased model with suboptimal performance."
   ]
  },
  {
   "cell_type": "code",
   "execution_count": null,
   "id": "75171a58-11c6-4f8f-a379-7ef5237e4227",
   "metadata": {},
   "outputs": [],
   "source": []
  },
  {
   "cell_type": "code",
   "execution_count": null,
   "id": "7aac07bf-53b7-427d-b063-4a335233a394",
   "metadata": {},
   "outputs": [],
   "source": []
  }
 ],
 "metadata": {
  "kernelspec": {
   "display_name": "Python 3 (ipykernel)",
   "language": "python",
   "name": "python3"
  },
  "language_info": {
   "codemirror_mode": {
    "name": "ipython",
    "version": 3
   },
   "file_extension": ".py",
   "mimetype": "text/x-python",
   "name": "python",
   "nbconvert_exporter": "python",
   "pygments_lexer": "ipython3",
   "version": "3.11.7"
  }
 },
 "nbformat": 4,
 "nbformat_minor": 5
}
